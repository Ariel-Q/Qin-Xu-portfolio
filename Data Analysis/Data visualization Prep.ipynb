{
 "cells": [
  {
   "cell_type": "code",
   "id": "initial_id",
   "metadata": {
    "collapsed": true,
    "ExecuteTime": {
     "end_time": "2025-04-01T02:50:49.800599Z",
     "start_time": "2025-04-01T02:50:49.273515Z"
    }
   },
   "source": [
    "import pandas as pd\n",
    "\n",
    "# File paths\n",
    "all_file = 'columns_distribution.xlsx'\n",
    "wds_file = 'WDS_distribution.xlsx'\n",
    "\n",
    "# Sheet names and their display names for Tableau\n",
    "sheet_rename_map = {\n",
    "    'institutioncountry': 'Institution Country',\n",
    "    'repolang': 'Repository Language',\n",
    "    'subject': 'Subject',\n",
    "    'subjectscheme': 'Subject Scheme',\n",
    "    'api_apitype': 'API Type',\n",
    "    'metadatastandardname': 'Metadata Standard Name',\n",
    "    'metadatastandardscheme': 'Metadata Standard Scheme',\n",
    "    'qualitymanagement': 'Quality Management',\n",
    "    'datauploadtype': 'Data Upload Type',\n",
    "    'datauploadrestriction': 'Data Upload Restriction',\n",
    "    'datauploadlicensename': 'Data Upload License Name',\n",
    "    'datalicensename': 'Data License Name',\n",
    "    'dataaccessrestriction': 'Data Access Restriction',\n",
    "    'dataaccesstype': 'Data Access Type',\n",
    "    'databaseaccessrestriction': 'Database Access Restriction',\n",
    "    'databaseaccesstype': 'Database Access Type',\n",
    "    'certificate': 'Certificate',\n",
    "    'pidsystem': 'PID System',\n",
    "    'aidsystem': 'AID System'\n",
    "}\n",
    "\n",
    "# Container for combined data\n",
    "combined_dfs = []\n",
    "\n",
    "# Load and combine from both files with Source label\n",
    "for file, source_label in zip([all_file, wds_file], ['All', 'WDS']):\n",
    "    xls = pd.ExcelFile(file)\n",
    "    for sheet, display_name in sheet_rename_map.items():\n",
    "        if sheet in xls.sheet_names:\n",
    "            df = xls.parse(sheet)\n",
    "            df['Source'] = source_label\n",
    "            df['Column'] = display_name\n",
    "            combined_dfs.append(df)\n",
    "        else:\n",
    "            print(f\"⚠️ Sheet '{sheet}' not found in {file}, skipping...\")\n",
    "\n",
    "# Combine into one dataframe\n",
    "final_df = pd.concat(combined_dfs, ignore_index=True)\n",
    "\n",
    "# Optional: Clean column names (in case of spaces or typos)\n",
    "final_df.columns = [col.strip().lower().replace(' ', '_') for col in final_df.columns]\n",
    "\n",
    "# Save to CSV\n",
    "final_df.to_csv('combined_distribution.csv', index=False)\n",
    "\n",
    "print(\"✅ Saved: 'combined_distribution.csv'\")\n"
   ],
   "outputs": [
    {
     "name": "stdout",
     "output_type": "stream",
     "text": [
      "✅ Saved: 'combined_distribution.csv'\n"
     ]
    }
   ],
   "execution_count": 1
  },
  {
   "metadata": {
    "ExecuteTime": {
     "end_time": "2025-04-01T02:50:49.803452Z",
     "start_time": "2025-04-01T02:50:49.801612Z"
    }
   },
   "cell_type": "code",
   "source": "",
   "id": "6d821475f9a24558",
   "outputs": [],
   "execution_count": 1
  }
 ],
 "metadata": {
  "kernelspec": {
   "display_name": "Python 3",
   "language": "python",
   "name": "python3"
  },
  "language_info": {
   "codemirror_mode": {
    "name": "ipython",
    "version": 2
   },
   "file_extension": ".py",
   "mimetype": "text/x-python",
   "name": "python",
   "nbconvert_exporter": "python",
   "pygments_lexer": "ipython2",
   "version": "2.7.6"
  }
 },
 "nbformat": 4,
 "nbformat_minor": 5
}
