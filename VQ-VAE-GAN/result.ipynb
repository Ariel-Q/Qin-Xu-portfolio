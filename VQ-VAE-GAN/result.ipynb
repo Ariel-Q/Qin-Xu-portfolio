{
 "cells": [
  {
   "metadata": {
    "ExecuteTime": {
     "end_time": "2024-06-12T02:18:00.451523Z",
     "start_time": "2024-06-12T02:18:00.448291Z"
    }
   },
   "cell_type": "code",
   "source": [
    "import numpy as np \n",
    "import pandas as pd \n",
    "import matplotlib.pyplot as plt\n",
    "import warnings\n",
    "warnings.filterwarnings(\"ignore\")"
   ],
   "id": "f4f1b47828026e48",
   "outputs": [],
   "execution_count": 2
  },
  {
   "metadata": {
    "ExecuteTime": {
     "end_time": "2024-06-12T02:18:22.996901Z",
     "start_time": "2024-06-12T02:18:22.987808Z"
    }
   },
   "cell_type": "code",
   "source": "result = pd.read_csv('result sum.csv')",
   "id": "1fa5ff345a621264",
   "outputs": [],
   "execution_count": 3
  },
  {
   "metadata": {
    "ExecuteTime": {
     "end_time": "2024-06-12T02:18:51.067536Z",
     "start_time": "2024-06-12T02:18:51.049746Z"
    }
   },
   "cell_type": "code",
   "source": "result.head()",
   "id": "6dc4194aeae3e291",
   "outputs": [
    {
     "data": {
      "text/plain": [
       "       type  seed  accuracy       AUC  precision  recall        F1\n",
       "0  original  6171    0.9772  0.799474   0.912121   0.602  0.725301\n",
       "1  original  2292    0.9766  0.799158   0.895833   0.602  0.720096\n",
       "2  original  4399    0.9758  0.797789   0.877193   0.600  0.712589\n",
       "3  original  8125    0.9762  0.797053   0.889881   0.598  0.715311\n",
       "4  original  2492    0.9756  0.797684   0.872093   0.600  0.710900"
      ],
      "text/html": [
       "<div>\n",
       "<style scoped>\n",
       "    .dataframe tbody tr th:only-of-type {\n",
       "        vertical-align: middle;\n",
       "    }\n",
       "\n",
       "    .dataframe tbody tr th {\n",
       "        vertical-align: top;\n",
       "    }\n",
       "\n",
       "    .dataframe thead th {\n",
       "        text-align: right;\n",
       "    }\n",
       "</style>\n",
       "<table border=\"1\" class=\"dataframe\">\n",
       "  <thead>\n",
       "    <tr style=\"text-align: right;\">\n",
       "      <th></th>\n",
       "      <th>type</th>\n",
       "      <th>seed</th>\n",
       "      <th>accuracy</th>\n",
       "      <th>AUC</th>\n",
       "      <th>precision</th>\n",
       "      <th>recall</th>\n",
       "      <th>F1</th>\n",
       "    </tr>\n",
       "  </thead>\n",
       "  <tbody>\n",
       "    <tr>\n",
       "      <th>0</th>\n",
       "      <td>original</td>\n",
       "      <td>6171</td>\n",
       "      <td>0.9772</td>\n",
       "      <td>0.799474</td>\n",
       "      <td>0.912121</td>\n",
       "      <td>0.602</td>\n",
       "      <td>0.725301</td>\n",
       "    </tr>\n",
       "    <tr>\n",
       "      <th>1</th>\n",
       "      <td>original</td>\n",
       "      <td>2292</td>\n",
       "      <td>0.9766</td>\n",
       "      <td>0.799158</td>\n",
       "      <td>0.895833</td>\n",
       "      <td>0.602</td>\n",
       "      <td>0.720096</td>\n",
       "    </tr>\n",
       "    <tr>\n",
       "      <th>2</th>\n",
       "      <td>original</td>\n",
       "      <td>4399</td>\n",
       "      <td>0.9758</td>\n",
       "      <td>0.797789</td>\n",
       "      <td>0.877193</td>\n",
       "      <td>0.600</td>\n",
       "      <td>0.712589</td>\n",
       "    </tr>\n",
       "    <tr>\n",
       "      <th>3</th>\n",
       "      <td>original</td>\n",
       "      <td>8125</td>\n",
       "      <td>0.9762</td>\n",
       "      <td>0.797053</td>\n",
       "      <td>0.889881</td>\n",
       "      <td>0.598</td>\n",
       "      <td>0.715311</td>\n",
       "    </tr>\n",
       "    <tr>\n",
       "      <th>4</th>\n",
       "      <td>original</td>\n",
       "      <td>2492</td>\n",
       "      <td>0.9756</td>\n",
       "      <td>0.797684</td>\n",
       "      <td>0.872093</td>\n",
       "      <td>0.600</td>\n",
       "      <td>0.710900</td>\n",
       "    </tr>\n",
       "  </tbody>\n",
       "</table>\n",
       "</div>"
      ]
     },
     "execution_count": 4,
     "metadata": {},
     "output_type": "execute_result"
    }
   ],
   "execution_count": 4
  },
  {
   "metadata": {
    "ExecuteTime": {
     "end_time": "2024-06-12T02:42:11.375739Z",
     "start_time": "2024-06-12T02:42:11.371463Z"
    }
   },
   "cell_type": "code",
   "source": "result_avg = result.groupby(['type']).mean().reset_index()",
   "id": "850f6514eaa5e9c2",
   "outputs": [],
   "execution_count": 31
  },
  {
   "metadata": {
    "ExecuteTime": {
     "end_time": "2024-06-12T02:45:26.562072Z",
     "start_time": "2024-06-12T02:45:26.558361Z"
    }
   },
   "cell_type": "code",
   "source": "result_avg = result_avg.drop(['seed'], axis=1)\n",
   "id": "2b7bdad5fcd5bebe",
   "outputs": [],
   "execution_count": 39
  },
  {
   "metadata": {
    "ExecuteTime": {
     "end_time": "2024-06-12T02:27:33.797060Z",
     "start_time": "2024-06-12T02:27:33.790199Z"
    }
   },
   "cell_type": "code",
   "source": "result_avg",
   "id": "69a5f1587daccb55",
   "outputs": [
    {
     "data": {
      "text/plain": [
       "          type  accuracy       AUC  precision  recall        F1\n",
       "0         SHAP   0.97644  0.800022   0.889350  0.6036  0.719313\n",
       "1     build_in   0.97554  0.795750   0.876235  0.5952  0.708786\n",
       "2     original   0.97628  0.798232   0.889424  0.6004  0.716839\n",
       "3  permutation   0.97644  0.805136   0.883442  0.6120  0.721640"
      ],
      "text/html": [
       "<div>\n",
       "<style scoped>\n",
       "    .dataframe tbody tr th:only-of-type {\n",
       "        vertical-align: middle;\n",
       "    }\n",
       "\n",
       "    .dataframe tbody tr th {\n",
       "        vertical-align: top;\n",
       "    }\n",
       "\n",
       "    .dataframe thead th {\n",
       "        text-align: right;\n",
       "    }\n",
       "</style>\n",
       "<table border=\"1\" class=\"dataframe\">\n",
       "  <thead>\n",
       "    <tr style=\"text-align: right;\">\n",
       "      <th></th>\n",
       "      <th>type</th>\n",
       "      <th>accuracy</th>\n",
       "      <th>AUC</th>\n",
       "      <th>precision</th>\n",
       "      <th>recall</th>\n",
       "      <th>F1</th>\n",
       "    </tr>\n",
       "  </thead>\n",
       "  <tbody>\n",
       "    <tr>\n",
       "      <th>0</th>\n",
       "      <td>SHAP</td>\n",
       "      <td>0.97644</td>\n",
       "      <td>0.800022</td>\n",
       "      <td>0.889350</td>\n",
       "      <td>0.6036</td>\n",
       "      <td>0.719313</td>\n",
       "    </tr>\n",
       "    <tr>\n",
       "      <th>1</th>\n",
       "      <td>build_in</td>\n",
       "      <td>0.97554</td>\n",
       "      <td>0.795750</td>\n",
       "      <td>0.876235</td>\n",
       "      <td>0.5952</td>\n",
       "      <td>0.708786</td>\n",
       "    </tr>\n",
       "    <tr>\n",
       "      <th>2</th>\n",
       "      <td>original</td>\n",
       "      <td>0.97628</td>\n",
       "      <td>0.798232</td>\n",
       "      <td>0.889424</td>\n",
       "      <td>0.6004</td>\n",
       "      <td>0.716839</td>\n",
       "    </tr>\n",
       "    <tr>\n",
       "      <th>3</th>\n",
       "      <td>permutation</td>\n",
       "      <td>0.97644</td>\n",
       "      <td>0.805136</td>\n",
       "      <td>0.883442</td>\n",
       "      <td>0.6120</td>\n",
       "      <td>0.721640</td>\n",
       "    </tr>\n",
       "  </tbody>\n",
       "</table>\n",
       "</div>"
      ]
     },
     "execution_count": 15,
     "metadata": {},
     "output_type": "execute_result"
    }
   ],
   "execution_count": 15
  },
  {
   "metadata": {
    "ExecuteTime": {
     "end_time": "2024-06-12T02:46:29.379620Z",
     "start_time": "2024-06-12T02:46:29.249475Z"
    }
   },
   "cell_type": "code",
   "source": [
    "\n",
    "fig, ax = plt.subplots(figsize=(9, 6))\n",
    "\n",
    "# Plot each type with a different marker and color\n",
    "markers = ['o', 's', '^', 'd']\n",
    "colors = ['b', 'g', 'r', 'c']\n",
    "jitter = 0.05\n",
    "\n",
    "for i, (type, marker, color) in enumerate(zip(result_avg['type'], markers, colors)):\n",
    "    x_values = np.arange(len(result_avg.columns[1:])) + i * jitter\n",
    "    ax.scatter(x_values, result_avg.iloc[i, 1:], label=type, marker=marker, color=color, s=100)\n",
    "\n",
    "# Set labels and titles\n",
    "ax.set_xlabel('Metric')\n",
    "ax.set_ylabel('Score')\n",
    "ax.set_title('Comparison of Metrics by Type')\n",
    "ax.set_xticks(np.arange(len(result_avg.columns[1:])))\n",
    "ax.set_xticklabels(result_avg.columns[1:])\n",
    "ax.legend(title='Type')\n",
    "\n",
    "# Add grid for better readability\n",
    "ax.grid(True)\n",
    "\n",
    "# Adjust layout\n",
    "plt.tight_layout()\n",
    "plt.show()"
   ],
   "id": "7e6bad6e3c6e8c07",
   "outputs": [
    {
     "data": {
      "text/plain": [
       "<Figure size 900x600 with 1 Axes>"
      ],
      "image/png": "[encoded data removed]"
     },
     "metadata": {},
     "output_type": "display_data"
    }
   ],
   "execution_count": 44
  },
  {
   "metadata": {
    "ExecuteTime": {
     "end_time": "2024-06-12T02:39:11.820386Z",
     "start_time": "2024-06-12T02:39:11.818115Z"
    }
   },
   "cell_type": "code",
   "source": "",
   "id": "28dc3cbbf44dc706",
   "outputs": [],
   "execution_count": 25
  },
  {
   "metadata": {
    "ExecuteTime": {
     "end_time": "2024-06-12T02:39:12.645838Z",
     "start_time": "2024-06-12T02:39:12.643358Z"
    }
   },
   "cell_type": "code",
   "source": "",
   "id": "c5bebee48c955638",
   "outputs": [],
   "execution_count": 25
  },
  {
   "metadata": {},
   "cell_type": "code",
   "outputs": [],
   "execution_count": null,
   "source": "",
   "id": "4ff498d3ca0f2cfc"
  }
 ],
 "metadata": {
  "kernelspec": {
   "display_name": "Python 3",
   "language": "python",
   "name": "python3"
  },
  "language_info": {
   "codemirror_mode": {
    "name": "ipython",
    "version": 2
   },
   "file_extension": ".py",
   "mimetype": "text/x-python",
   "name": "python",
   "nbconvert_exporter": "python",
   "pygments_lexer": "ipython2",
   "version": "2.7.6"
  }
 },
 "nbformat": 4,
 "nbformat_minor": 5
}
